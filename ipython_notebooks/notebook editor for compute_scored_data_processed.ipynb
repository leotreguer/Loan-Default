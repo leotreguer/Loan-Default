{
  "metadata": {
    "kernelspec": {
      "display_name": "Python 2",
      "name": "python2",
      "language": "python"
    },
    "language_info": {
      "mimetype": "text/x-python",
      "nbconvert_exporter": "python",
      "version": "2.7.16",
      "name": "python",
      "pygments_lexer": "ipython2",
      "file_extension": ".py",
      "codemirror_mode": {
        "version": 2,
        "name": "ipython"
      }
    },
    "creator": "leo.treguer",
    "associatedRecipe": "compute_scored_data_processed",
    "createdOn": 1620387012069,
    "tags": [
      "recipe-editor"
    ],
    "customFields": {},
    "modifiedBy": "leo.treguer"
  },
  "nbformat": 4,
  "nbformat_minor": 1,
  "cells": [
    {
      "execution_count": 1,
      "cell_type": "code",
      "metadata": {},
      "source": [
        "# -*- coding: utf-8 -*-\nimport dataiku\nimport pandas as pd, numpy as np\nfrom dataiku import pandasutils as pdu\n\n# Read recipe inputs\nscored_data \u003d dataiku.Dataset(\"scored_data\")\nscored_data_df \u003d scored_data.get_dataframe()\n\n"
      ],
      "outputs": []
    },
    {
      "execution_count": 2,
      "cell_type": "code",
      "metadata": {},
      "source": [
        "scored_data_df.head()"
      ],
      "outputs": [
        {
          "output_type": "execute_result",
          "metadata": {},
          "data": {
            "text/html": "\n            \u003cbutton style\u003d\"display:none\" \n            class\u003d\"btn btn-default ipython-export-btn\" \n            id\u003d\"btn-df-4817af3b-89ca-49e8-ad01-3e4f6d6c6fca\" \n            onclick\u003d\"_export_df(\u00274817af3b-89ca-49e8-ad01-3e4f6d6c6fca\u0027)\"\u003e\n                Export dataframe\n            \u003c/button\u003e\n            \n            \u003cscript\u003e\n                \n                function _check_export_df_possible(dfid,yes_fn,no_fn) {\n                    console.log(\u0027Checking dataframe exportability...\u0027)\n                    if(!IPython || !IPython.notebook || !IPython.notebook.kernel || !IPython.notebook.kernel) {\n                        console.log(\u0027Export is not possible (IPython kernel is not available)\u0027)\n                        if(no_fn) {\n                            no_fn();\n                        }\n                    } else {\n                        var pythonCode \u003d \u0027from dataiku.notebook.export import IPythonExporter;IPythonExporter._check_export_stdout(\"\u0027+dfid+\u0027\")\u0027;\n                        IPython.notebook.kernel.execute(pythonCode,{iopub: {output: function(resp) {\n                            console.info(\"Exportability response\", resp);\n                            var size \u003d /^([0-9]+)x([0-9]+)$/.exec(resp.content.data || resp.content.text)\n                            if(!size) {\n                                console.log(\u0027Export is not possible (dataframe is not in-memory anymore)\u0027)\n                                if(no_fn) {\n                                    no_fn();\n                                }\n                            } else {\n                                console.log(\u0027Export is possible\u0027)\n                                if(yes_fn) {\n                                    yes_fn(1*size[1],1*size[2]);\n                                }\n                            }\n                        }}});\n                    }\n                }\n            \n                function _export_df(dfid) {\n                    \n                    var btn \u003d $(\u0027#btn-df-\u0027+dfid);\n                    var btns \u003d $(\u0027.ipython-export-btn\u0027);\n                    \n                    _check_export_df_possible(dfid,function() {\n                        \n                        window.parent.openExportModalFromIPython(\u0027Pandas dataframe\u0027,function(data) {\n                            btns.prop(\u0027disabled\u0027,true);\n                            btn.text(\u0027Exporting...\u0027);\n                            var command \u003d \u0027from dataiku.notebook.export import IPythonExporter;IPythonExporter._run_export(\"\u0027+dfid+\u0027\",\"\u0027+data.exportId+\u0027\")\u0027;\n                            var callback \u003d {iopub:{output: function(resp) {\n                                console.info(\"CB resp:\", resp);\n                                _check_export_df_possible(dfid,function(rows, cols) {\n                                    $(\u0027#btn-df-\u0027+dfid)\n                                        .css(\u0027display\u0027,\u0027inline-block\u0027)\n                                        .text(\u0027Export this dataframe (\u0027+rows+\u0027 rows, \u0027+cols+\u0027 cols)\u0027)\n                                        .prop(\u0027disabled\u0027,false);\n                                },function() {\n                                    $(\u0027#btn-df-\u0027+dfid).css(\u0027display\u0027,\u0027none\u0027);\n                                });\n                            }}};\n                            IPython.notebook.kernel.execute(command,callback,{silent:false}); // yes, silent now defaults to true. figures.\n                        });\n                    \n                    }, function(){\n                            alert(\u0027Unable to export : the Dataframe object is not loaded in memory\u0027);\n                            btn.css(\u0027display\u0027,\u0027none\u0027);\n                    });\n                    \n                }\n                \n                (function(dfid) {\n                \n                    var retryCount \u003d 10;\n                \n                    function is_valid_websock(s) {\n                        return s \u0026\u0026 s.readyState\u003d\u003d1;\n                    }\n                \n                    function check_conn() {\n                        \n                        if(!IPython || !IPython.notebook) {\n                            // Don\u0027t even try to go further\n                            return;\n                        }\n                        \n                        // Check if IPython is ready\n                        console.info(\"Checking conn ...\")\n                        if(IPython.notebook.kernel\n                        \u0026\u0026 IPython.notebook.kernel\n                        \u0026\u0026 is_valid_websock(IPython.notebook.kernel.ws)\n                        ) {\n                            \n                            _check_export_df_possible(dfid,function(rows, cols) {\n                                $(\u0027#btn-df-\u0027+dfid).css(\u0027display\u0027,\u0027inline-block\u0027);\n                                $(\u0027#btn-df-\u0027+dfid).text(\u0027Export this dataframe (\u0027+rows+\u0027 rows, \u0027+cols+\u0027 cols)\u0027);\n                            });\n                            \n                        } else {\n                            console.info(\"Conditions are not ok\", IPython.notebook.kernel);\n                            \n                            // Retry later\n                            \n                            if(retryCount\u003e0) {\n                                setTimeout(check_conn,500);\n                                retryCount--;\n                            }\n                            \n                        }\n                    };\n                    \n                    setTimeout(check_conn,100);\n                    \n                })(\"4817af3b-89ca-49e8-ad01-3e4f6d6c6fca\");\n                \n            \u003c/script\u003e\n            \n        \u003cdiv\u003e\n\u003cstyle scoped\u003e\n    .dataframe tbody tr th:only-of-type {\n        vertical-align: middle;\n    }\n\n    .dataframe tbody tr th {\n        vertical-align: top;\n    }\n\n    .dataframe thead th {\n        text-align: right;\n    }\n\u003c/style\u003e\n\u003ctable border\u003d\"1\" class\u003d\"dataframe\"\u003e\n  \u003cthead\u003e\n    \u003ctr style\u003d\"text-align: right;\"\u003e\n      \u003cth\u003e\u003c/th\u003e\n      \u003cth\u003eid\u003c/th\u003e\n      \u003cth\u003eStatus\u003c/th\u003e\n      \u003cth\u003eDate_Of_Birth\u003c/th\u003e\n      \u003cth\u003eDate_Of_Birth_parsed\u003c/th\u003e\n      \u003cth\u003eAge\u003c/th\u003e\n      \u003cth\u003eMonthly_Income\u003c/th\u003e\n      \u003cth\u003eState\u003c/th\u003e\n      \u003cth\u003eInterest_Rate\u003c/th\u003e\n      \u003cth\u003eFicoAvg\u003c/th\u003e\n      \u003cth\u003eDefault\u003c/th\u003e\n      \u003cth\u003eAmount_Requested\u003c/th\u003e\n      \u003cth\u003eLoan_Purpose\u003c/th\u003e\n      \u003cth\u003eLoan_Length\u003c/th\u003e\n      \u003cth\u003eHome_Ownership\u003c/th\u003e\n      \u003cth\u003eproba_0.0\u003c/th\u003e\n      \u003cth\u003eproba_1.0\u003c/th\u003e\n      \u003cth\u003eprediction\u003c/th\u003e\n    \u003c/tr\u003e\n  \u003c/thead\u003e\n  \u003ctbody\u003e\n    \u003ctr\u003e\n      \u003cth\u003e0\u003c/th\u003e\n      \u003ctd\u003e83869\u003c/td\u003e\n      \u003ctd\u003epending\u003c/td\u003e\n      \u003ctd\u003e1984-28-07\u003c/td\u003e\n      \u003ctd\u003e1984-07-28\u003c/td\u003e\n      \u003ctd\u003e36\u003c/td\u003e\n      \u003ctd\u003e9166.67\u003c/td\u003e\n      \u003ctd\u003eCT\u003c/td\u003e\n      \u003ctd\u003e8.90\u003c/td\u003e\n      \u003ctd\u003e737.0\u003c/td\u003e\n      \u003ctd\u003eNaN\u003c/td\u003e\n      \u003ctd\u003e35000\u003c/td\u003e\n      \u003ctd\u003edebt_consolidation\u003c/td\u003e\n      \u003ctd\u003e36\u003c/td\u003e\n      \u003ctd\u003eRENT\u003c/td\u003e\n      \u003ctd\u003e0.839712\u003c/td\u003e\n      \u003ctd\u003e0.160288\u003c/td\u003e\n      \u003ctd\u003e0.0\u003c/td\u003e\n    \u003c/tr\u003e\n    \u003ctr\u003e\n      \u003cth\u003e1\u003c/th\u003e\n      \u003ctd\u003e23446\u003c/td\u003e\n      \u003ctd\u003epending\u003c/td\u003e\n      \u003ctd\u003e1983-30-07\u003c/td\u003e\n      \u003ctd\u003e1983-07-30\u003c/td\u003e\n      \u003ctd\u003e37\u003c/td\u003e\n      \u003ctd\u003e4333.33\u003c/td\u003e\n      \u003ctd\u003eOH\u003c/td\u003e\n      \u003ctd\u003e10.37\u003c/td\u003e\n      \u003ctd\u003e742.0\u003c/td\u003e\n      \u003ctd\u003eNaN\u003c/td\u003e\n      \u003ctd\u003e14000\u003c/td\u003e\n      \u003ctd\u003edebt_consolidation\u003c/td\u003e\n      \u003ctd\u003e60\u003c/td\u003e\n      \u003ctd\u003eRENT\u003c/td\u003e\n      \u003ctd\u003e0.821443\u003c/td\u003e\n      \u003ctd\u003e0.178557\u003c/td\u003e\n      \u003ctd\u003e0.0\u003c/td\u003e\n    \u003c/tr\u003e\n    \u003ctr\u003e\n      \u003cth\u003e2\u003c/th\u003e\n      \u003ctd\u003e96536\u003c/td\u003e\n      \u003ctd\u003epending\u003c/td\u003e\n      \u003ctd\u003e1978-10-11\u003c/td\u003e\n      \u003ctd\u003e1978-11-10\u003c/td\u003e\n      \u003ctd\u003e42\u003c/td\u003e\n      \u003ctd\u003e5583.33\u003c/td\u003e\n      \u003ctd\u003eAL\u003c/td\u003e\n      \u003ctd\u003e7.90\u003c/td\u003e\n      \u003ctd\u003e782.0\u003c/td\u003e\n      \u003ctd\u003eNaN\u003c/td\u003e\n      \u003ctd\u003e8000\u003c/td\u003e\n      \u003ctd\u003ecar\u003c/td\u003e\n      \u003ctd\u003e36\u003c/td\u003e\n      \u003ctd\u003eMORTGAGE\u003c/td\u003e\n      \u003ctd\u003e0.835989\u003c/td\u003e\n      \u003ctd\u003e0.164011\u003c/td\u003e\n      \u003ctd\u003e0.0\u003c/td\u003e\n    \u003c/tr\u003e\n    \u003ctr\u003e\n      \u003cth\u003e3\u003c/th\u003e\n      \u003ctd\u003e82294\u003c/td\u003e\n      \u003ctd\u003epending\u003c/td\u003e\n      \u003ctd\u003e1984-20-11\u003c/td\u003e\n      \u003ctd\u003e1984-11-20\u003c/td\u003e\n      \u003ctd\u003e36\u003c/td\u003e\n      \u003ctd\u003e9166.67\u003c/td\u003e\n      \u003ctd\u003eCA\u003c/td\u003e\n      \u003ctd\u003e16.29\u003c/td\u003e\n      \u003ctd\u003e687.0\u003c/td\u003e\n      \u003ctd\u003eNaN\u003c/td\u003e\n      \u003ctd\u003e20000\u003c/td\u003e\n      \u003ctd\u003edebt_consolidation\u003c/td\u003e\n      \u003ctd\u003e36\u003c/td\u003e\n      \u003ctd\u003eRENT\u003c/td\u003e\n      \u003ctd\u003e0.426233\u003c/td\u003e\n      \u003ctd\u003e0.573767\u003c/td\u003e\n      \u003ctd\u003e1.0\u003c/td\u003e\n    \u003c/tr\u003e\n    \u003ctr\u003e\n      \u003cth\u003e4\u003c/th\u003e\n      \u003ctd\u003e83768\u003c/td\u003e\n      \u003ctd\u003epending\u003c/td\u003e\n      \u003ctd\u003e1980-27-09\u003c/td\u003e\n      \u003ctd\u003e1980-09-27\u003c/td\u003e\n      \u003ctd\u003e40\u003c/td\u003e\n      \u003ctd\u003e4583.33\u003c/td\u003e\n      \u003ctd\u003eNJ\u003c/td\u003e\n      \u003ctd\u003e17.27\u003c/td\u003e\n      \u003ctd\u003e667.0\u003c/td\u003e\n      \u003ctd\u003eNaN\u003c/td\u003e\n      \u003ctd\u003e12000\u003c/td\u003e\n      \u003ctd\u003ecredit_card\u003c/td\u003e\n      \u003ctd\u003e36\u003c/td\u003e\n      \u003ctd\u003eOWN\u003c/td\u003e\n      \u003ctd\u003e0.390427\u003c/td\u003e\n      \u003ctd\u003e0.609573\u003c/td\u003e\n      \u003ctd\u003e1.0\u003c/td\u003e\n    \u003c/tr\u003e\n  \u003c/tbody\u003e\n\u003c/table\u003e\n\u003c/div\u003e",
            "text/plain": "      id   Status Date_Of_Birth Date_Of_Birth_parsed  Age  Monthly_Income State  Interest_Rate  FicoAvg  Default  Amount_Requested        Loan_Purpose  Loan_Length Home_Ownership  proba_0.0  proba_1.0  prediction\n0  83869  pending    1984-28-07           1984-07-28   36         9166.67    CT           8.90    737.0      NaN             35000  debt_consolidation           36           RENT   0.839712   0.160288         0.0\n1  23446  pending    1983-30-07           1983-07-30   37         4333.33    OH          10.37    742.0      NaN             14000  debt_consolidation           60           RENT   0.821443   0.178557         0.0\n2  96536  pending    1978-10-11           1978-11-10   42         5583.33    AL           7.90    782.0      NaN              8000                 car           36       MORTGAGE   0.835989   0.164011         0.0\n3  82294  pending    1984-20-11           1984-11-20   36         9166.67    CA          16.29    687.0      NaN             20000  debt_consolidation           36           RENT   0.426233   0.573767         1.0\n4  83768  pending    1980-27-09           1980-09-27   40         4583.33    NJ          17.27    667.0      NaN             12000         credit_card           36            OWN   0.390427   0.609573         1.0"
          },
          "execution_count": 2
        }
      ]
    },
    {
      "execution_count": 0,
      "cell_type": "code",
      "metadata": {},
      "source": [
        "\n# Compute recipe outputs from inputs\n# TODO: Replace this part by your actual code that computes the output, as a Pandas dataframe\n# NB: DSS also supports other kinds of APIs for reading and writing data. Please see doc.\n\nscored_data_processed_df \u003d scored_data_df # For this sample code, simply copy input to output\n\n#test\n\n\n# Write recipe outputs\nscored_data_processed \u003d dataiku.Dataset(\"scored_data_processed\")\nscored_data_processed.write_with_schema(scored_data_processed_df)"
      ],
      "outputs": []
    },
    {
      "execution_count": 0,
      "cell_type": "code",
      "metadata": {},
      "source": [
        ""
      ],
      "outputs": []
    }
  ]
}