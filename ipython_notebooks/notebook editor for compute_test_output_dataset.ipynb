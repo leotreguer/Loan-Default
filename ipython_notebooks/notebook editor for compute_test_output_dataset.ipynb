{
  "metadata": {
    "kernelspec": {
      "display_name": "Python 2",
      "name": "python2",
      "language": "python"
    },
    "language_info": {
      "mimetype": "text/x-python",
      "nbconvert_exporter": "python",
      "version": "2.7.16",
      "name": "python",
      "pygments_lexer": "ipython2",
      "file_extension": ".py",
      "codemirror_mode": {
        "version": 2,
        "name": "ipython"
      }
    },
    "dkuGit": {
      "lastInteraction": 0
    },
    "creator": "admin",
    "associatedRecipe": "compute_test_output_dataset",
    "createdOn": 1637141998881,
    "hide_input": false,
    "creationTag": {
      "lastModifiedBy": {
        "login": "admin"
      },
      "lastModifiedOn": 1637141998881,
      "versionNumber": 0
    },
    "customFields": {},
    "tags": [
      "recipe-editor"
    ],
    "modifiedBy": "admin"
  },
  "nbformat": 4,
  "nbformat_minor": 1,
  "cells": [
    {
      "execution_count": 0,
      "cell_type": "code",
      "metadata": {},
      "source": [
        "# -*- coding: utf-8 -*-\nimport dataiku\nimport pandas as pd, numpy as np\nfrom dataiku import pandasutils as pdu\n\n# Read recipe inputs\nscored_data \u003d dataiku.Dataset(\"scored_data\")\nscored_data_df \u003d scored_data.get_dataframe()"
      ],
      "outputs": []
    },
    {
      "execution_count": 0,
      "cell_type": "code",
      "metadata": {},
      "source": [
        "# Compute recipe outputs from inputs\n# TODO: Replace this part by your actual code that computes the output, as a Pandas dataframe\n# NB: DSS also supports other kinds of APIs for reading and writing data. Please see doc.\n\ntest_output_dataset_df \u003d scored_data_df # For this sample code, simply copy input to output"
      ],
      "outputs": []
    },
    {
      "execution_count": 0,
      "cell_type": "code",
      "metadata": {},
      "source": [
        "test_output_dataset_df[\"new_column\"]\u003dtest_output_dataset_df[\"Amount_Requested\"]/10\ntest_output_dataset_df.head()"
      ],
      "outputs": []
    },
    {
      "execution_count": 0,
      "cell_type": "code",
      "metadata": {},
      "source": [
        "# Write recipe outputs\ntest_output_dataset \u003d dataiku.Dataset(\"test_output_dataset\")\ntest_output_dataset.write_with_schema(test_output_dataset_df)"
      ],
      "outputs": []
    }
  ]
}