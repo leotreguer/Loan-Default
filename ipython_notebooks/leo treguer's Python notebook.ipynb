{
  "metadata": {
    "kernelspec": {
      "display_name": "Python 2",
      "name": "python2",
      "language": "python"
    },
    "language_info": {
      "mimetype": "text/x-python",
      "nbconvert_exporter": "python",
      "version": "2.7.16",
      "name": "python",
      "pygments_lexer": "ipython2",
      "file_extension": ".py",
      "codemirror_mode": {
        "version": 2,
        "name": "ipython"
      }
    },
    "tags": [],
    "createdOn": 1620288608652,
    "creator": "leo.treguer",
    "customFields": {},
    "modifiedBy": "leo.treguer"
  },
  "nbformat": 4,
  "nbformat_minor": 1,
  "cells": [
    {
      "execution_count": 1,
      "cell_type": "code",
      "metadata": {},
      "source": [
        "%pylab inline"
      ],
      "outputs": [
        {
          "output_type": "stream",
          "name": "stdout",
          "text": "Populating the interactive namespace from numpy and matplotlib\n"
        }
      ]
    },
    {
      "execution_count": 2,
      "cell_type": "code",
      "metadata": {},
      "source": [
        "import dataiku\nfrom dataiku import pandasutils as pdu\nimport pandas as pd"
      ],
      "outputs": []
    },
    {
      "execution_count": 3,
      "cell_type": "code",
      "metadata": {},
      "source": [
        "import dataikuapi\n\nclient \u003d dataikuapi.APINodeClient(\"http://localhost:1100/\", \"Loan_requests\")\n\nrecord_to_predict \u003d {\n    \"id\": 83869,\n    \"Status\": \"pending\",\n    \"Date_Of_Birth\": \"1984-28-07\",\n    \"Date_Of_Birth_parsed\": \"1984-07-28T00:00:00.000Z\",\n    \"Age\": 86,\n    \"Monthly_Income\": 2166.67,\n    \"State\": \"CT\",\n    \"Interest_Rate\": 8.9,\n    \"FicoAvg\": 537,\n    \"Amount_Requested\": 35000,\n    \"Loan_Purpose\": \"debt_consolidation\",\n    \"Loan_Length\": \"36\",\n    \"Home_Ownership\": \"RENT\"\n}\nprediction \u003d client.predict_record(\"Predict-default\", record_to_predict)\nprint(prediction[\"result\"])\n"
      ],
      "outputs": [
        {
          "output_type": "stream",
          "name": "stdout",
          "text": "{u\u0027probaPercentile\u0027: 100, u\u0027ignored\u0027: False, u\u0027probas\u0027: {u\u00270.0\u0027: 0.0007642313784610444, u\u00271.0\u0027: 0.999235768621539}, u\u0027prediction\u0027: u\u00271.0\u0027}\n"
        },
        {
          "output_type": "stream",
          "name": "stderr",
          "text": "/Users/ltreguer/Documents/dataiku-dss-9.0.0-osx/python.packages/requests/auth.py:44: DeprecationWarning: Non-string usernames will no longer be supported in Requests 3.0.0. Please convert the object you\u0027ve passed in (None) to a string or bytes object in the near future to avoid problems.\n  category\u003dDeprecationWarning,\n"
        }
      ]
    },
    {
      "execution_count": 0,
      "cell_type": "code",
      "metadata": {},
      "source": [
        ""
      ],
      "outputs": []
    }
  ]
}