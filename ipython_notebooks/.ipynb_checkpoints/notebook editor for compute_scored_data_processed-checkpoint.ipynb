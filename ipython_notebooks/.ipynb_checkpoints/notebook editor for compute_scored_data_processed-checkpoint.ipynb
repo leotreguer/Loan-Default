{
  "nbformat": 4,
  "nbformat_minor": 0,
  "metadata": {
    "kernelspec": {
      "display_name": "Python 2",
      "language": "python",
      "name": "python2"
    },
    "associatedRecipe": "compute_scored_data_processed",
    "creator": "leo.treguer",
    "createdOn": 1620387012069,
    "tags": [
      "recipe-editor"
    ],
    "customFields": {}
  },
  "cells": [
    {
      "cell_type": "code",
      "metadata": {},
      "outputs": [],
      "execution_count": 0,
      "source": [
        "# -*- coding: utf-8 -*-\n",
        "import dataiku\n",
        "import pandas as pd, numpy as np\n",
        "from dataiku import pandasutils as pdu\n",
        "\n",
        "# Read recipe inputs\n",
        "scored_data \u003d dataiku.Dataset(\"scored_data\")\n",
        "scored_data_df \u003d scored_data.get_dataframe()\n",
        "\n",
        "\n",
        "# Compute recipe outputs from inputs\n",
        "# TODO: Replace this part by your actual code that computes the output, as a Pandas dataframe\n",
        "# NB: DSS also supports other kinds of APIs for reading and writing data. Please see doc.\n",
        "\n",
        "scored_data_processed_df \u003d scored_data_df # For this sample code, simply copy input to output\n",
        "\n",
        "#test\n",
        "\n",
        "\n",
        "# Write recipe outputs\n",
        "scored_data_processed \u003d dataiku.Dataset(\"scored_data_processed\")\n",
        "scored_data_processed.write_with_schema(scored_data_processed_df)"
      ]
    }
  ]
}